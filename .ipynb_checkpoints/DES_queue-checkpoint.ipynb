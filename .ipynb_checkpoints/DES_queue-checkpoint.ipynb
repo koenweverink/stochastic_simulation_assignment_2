{
 "cells": [
  {
   "cell_type": "markdown",
   "metadata": {},
   "source": [
    "# DES\tsimulation\tassignment\n",
    "## Multiple queues and multiple servers\n",
    "\n",
    "\n",
    "$\\lambda$ – the arrival rate into the system as a whole. \\\n",
    "$\\mu$ – the capacity of each of n equal servers. \\\n",
    "$\\rho$ represents the system load. \\\n",
    "In a single server system, it will be: $\\rho = \\frac{\\lambda}{\\mu}$ \\\n",
    "In a multi-server system (one queue with n equal servers, each with capacity $\\mu$), it will be $\\rho = \\frac{\\lambda}{(n \\mu)}$"
   ]
  },
  {
   "cell_type": "markdown",
   "metadata": {},
   "source": [
    "Queuing theory tells us that for FIFO scheduling the average waiting times are shorter for an\n",
    "M/M/n queue and a system load ρ and processor capacity µ than for a single M/M/1 queue\n",
    "with the same load characteristics (and thus an n-fold lower arrival rate). Of course, ρ must be\n",
    "less than one, but the experiment only becomes interesting when ρ is not much less than one."
   ]
  },
  {
   "cell_type": "markdown",
   "metadata": {},
   "source": [
    "### 1) Look up and/or derive this theoretical result, at least for n=2. Describe how it is derived. Can you also give a non-mathematical explanation?"
   ]
  },
  {
   "cell_type": "markdown",
   "metadata": {},
   "source": [
    "TODO"
   ]
  },
  {
   "cell_type": "markdown",
   "metadata": {},
   "source": [
    "### 2) Write a DES program to verify this for n=1, n=2 and n=4. Make sure that your result has a high and known statistical significance. How does the number of measurements required to attain this depend on ρ?"
   ]
  },
  {
   "cell_type": "markdown",
   "metadata": {},
   "source": [
    "M/M/n: \\\n",
    "Markovian/memoryless inter-arrival time distribution, so draw from exponential distribution \\\n",
    "Markovian/memoryless service time distribution, so draw from exponential distribution \\ \n",
    "n servers \\\n",
    "Infinite queue \\\n",
    "Service queuing disciple = FIFO\n"
   ]
  },
  {
   "cell_type": "code",
   "execution_count": 2,
   "metadata": {},
   "outputs": [
    {
     "name": "stdout",
     "output_type": "stream",
     "text": [
      "Collecting simpy\n",
      "  Downloading simpy-4.1.1-py3-none-any.whl.metadata (6.1 kB)\n",
      "Downloading simpy-4.1.1-py3-none-any.whl (27 kB)\n",
      "Installing collected packages: simpy\n",
      "Successfully installed simpy-4.1.1\n",
      "\u001b[33mWARNING: There was an error checking the latest version of pip.\u001b[0m\u001b[33m\n",
      "\u001b[0m"
     ]
    }
   ],
   "source": [
    "!pip install simpy"
   ]
  },
  {
   "cell_type": "code",
   "execution_count": 3,
   "metadata": {},
   "outputs": [],
   "source": [
    "import numpy as np\n",
    "import simpy\n",
    "import matplotlib.pyplot as plt"
   ]
  },
  {
   "cell_type": "code",
   "execution_count": 23,
   "metadata": {},
   "outputs": [],
   "source": [
    "class Server:\n",
    "    def __init__(self, env, arrival_rate, service_rate, capacity):\n",
    "        \"\"\"\n",
    "        Initialize the Server object.\n",
    "\n",
    "        Parameters:\n",
    "        - env: SimPy environment\n",
    "        - arrival_rate: Rate of arrivals (requests per time unit)\n",
    "        - service_rate: Rate of service completion (services per time unit)\n",
    "        - capacity: Server capacity (number of parallel services allowed)\n",
    "        \"\"\"\n",
    "        self.env = env\n",
    "        self.server = simpy.Resource(env, capacity=capacity)\n",
    "        self.arrival_rate = arrival_rate\n",
    "        self.service_rate = service_rate\n",
    "        self.total_arrivals = 0\n",
    "        self.total_complete_services = 0\n",
    "        self.total_time_in_queue = 0\n",
    "        self.arrival_times = []\n",
    "\n",
    "\n",
    "    def arrival_process(self):\n",
    "        \"\"\"\n",
    "        Process representing the arrival of requests.\n",
    "        Generates arrivals based on an exponential distribution and\n",
    "        then starts service processes.\n",
    "        \"\"\"\n",
    "        while True:\n",
    "            yield self.env.timeout(np.random.exponential(1 / self.arrival_rate))\n",
    "            self.total_arrivals += 1\n",
    "            arrival_time = self.env.now\n",
    "            self.arrival_times.append(arrival_time)\n",
    "            self.env.process(self.service())\n",
    "\n",
    "\n",
    "    def service(self):\n",
    "        \"\"\"\n",
    "        Process representing the service of requests.\n",
    "        Records arrival time, enters the queue, starts service, and calculates time spent in the queue.\n",
    "        \"\"\"\n",
    "        arrival_time = self.env.now\n",
    "        print(f\"Arrival at time {arrival_time}\")\n",
    "\n",
    "        with self.server.request() as req:\n",
    "            yield req\n",
    "\n",
    "            service_start_time = self.env.now\n",
    "            print(f\"Service start at time {service_start_time}\")\n",
    "            service_time = np.random.exponential(1 / self.service_rate)\n",
    "            yield self.env.timeout(service_time)\n",
    "\n",
    "            departure_time = self.env.now\n",
    "            print(f\"Service end at time {departure_time}\")\n",
    "            self.total_complete_services += 1\n",
    "\n",
    "            # Calculate time spent in the queue\n",
    "            time_in_queue = service_start_time - arrival_time\n",
    "            self.total_time_in_queue += time_in_queue\n",
    "\n",
    "\n",
    "    def run_simulation(self, simulation_time):\n",
    "        \"\"\"\n",
    "        Run the simulation for a specified duration.\n",
    "        \n",
    "        Parameters:\n",
    "        - simulation_time: max duration of the simulation\n",
    "        \"\"\"\n",
    "        self.env.process(self.arrival_process())\n",
    "        self.env.run(until=simulation_time)"
   ]
  },
  {
   "cell_type": "code",
   "execution_count": 24,
   "metadata": {},
   "outputs": [
    {
     "name": "stdout",
     "output_type": "stream",
     "text": [
      "Arrival at time 7.853783368937345\n",
      "Service start at time 7.853783368937345\n",
      "Service end at time 9.818639136953907\n",
      "Arrival at time 11.203726024667954\n",
      "Service start at time 11.203726024667954\n",
      "Service end at time 11.47882270420734\n",
      "Arrival at time 15.934682190008203\n",
      "Service start at time 15.934682190008203\n",
      "Service end at time 16.386467607792326\n",
      "Arrival at time 32.71897444710356\n",
      "Service start at time 32.71897444710356\n",
      "Arrival at time 34.14961510161872\n",
      "Service end at time 38.04840483483998\n",
      "Service start at time 38.04840483483998\n",
      "Service end at time 39.18602813642262\n",
      "Arrival at time 40.72918794047725\n",
      "Service start at time 40.72918794047725\n",
      "Service end at time 42.069545286362704\n",
      "Arrival at time 46.088671874001975\n",
      "Service start at time 46.088671874001975\n",
      "Arrival at time 46.750073530359366\n",
      "Service end at time 47.77454001293647\n",
      "Service start at time 47.77454001293647\n",
      "Service end at time 48.448334310178794\n",
      "Arrival at time 53.04867623685839\n",
      "Service start at time 53.04867623685839\n",
      "Arrival at time 56.157461187100935\n",
      "Service end at time 57.31869401945548\n",
      "Service start at time 57.31869401945548\n",
      "Service end at time 64.09576193409482\n",
      "Arrival at time 68.67679021475945\n",
      "Service start at time 68.67679021475945\n",
      "Arrival at time 74.93867335145728\n",
      "Service end at time 78.8997192405159\n",
      "Service start at time 78.8997192405159\n",
      "Arrival at time 79.20055778231301\n",
      "Service end at time 83.58076969199905\n",
      "Service start at time 83.58076969199905\n",
      "Service end at time 85.26936420181671\n",
      "Arrival at time 97.98103209230115\n",
      "Service start at time 97.98103209230115\n",
      "Service end at time 99.48429058382705\n"
     ]
    }
   ],
   "source": [
    "# Set up simulation environment and parameters\n",
    "env = simpy.Environment()\n",
    "arrival_rate = 0.2\n",
    "service_rate = 0.3\n",
    "capacity = 1\n",
    "simulation_time = 100.0 \n",
    "\n",
    "# Create and run the server simulation\n",
    "server = Server(env, arrival_rate, service_rate, capacity)\n",
    "server.run_simulation(simulation_time)"
   ]
  },
  {
   "cell_type": "code",
   "execution_count": 17,
   "metadata": {},
   "outputs": [
    {
     "name": "stdout",
     "output_type": "stream",
     "text": [
      "Total Arrivals: 30\n",
      "Average Time in Queue: 1.5200807685665088\n",
      "Total Complete Services: 28\n"
     ]
    }
   ],
   "source": [
    "# Print simulation results\n",
    "print(f\"Total Arrivals: {server.total_arrivals}\")\n",
    "print(f\"Average Time in Queue: {server.total_time_in_queue / server.total_arrivals if server.total_arrivals > 0 else 0}\")\n",
    "print(f\"Total Complete Services: {server.total_complete_services}\")"
   ]
  },
  {
   "cell_type": "code",
   "execution_count": 19,
   "metadata": {},
   "outputs": [
    {
     "name": "stdout",
     "output_type": "stream",
     "text": [
      "Results for M/M/1 Queue:\n",
      "   Mean Waiting Time: 2513.4257596652496\n",
      "   Confidence Interval: (2465.338235455316, 2561.5132838751833)\n",
      "Results for M/M/2 Queue:\n",
      "   Mean Waiting Time: 45.44554247824078\n",
      "   Confidence Interval: (23.613383830825974, 67.2777011256556)\n",
      "Results for M/M/4 Queue:\n",
      "   Mean Waiting Time: 0.6083994750260864\n",
      "   Confidence Interval: (0.597873399765624, 0.6189255502865487)\n"
     ]
    }
   ],
   "source": [
    "from scipy.stats import t\n",
    "\n",
    "def main():\n",
    "    simulation_time = 10000\n",
    "    arrival_rate = 2.0\n",
    "    service_rate = 1.0\n",
    "    num_replications = 5\n",
    "\n",
    "    for n in [1, 2, 4]:\n",
    "        print(f\"Results for M/M/{n} Queue:\")\n",
    "        avg_waiting_times = []\n",
    "\n",
    "        for _ in range(num_replications):\n",
    "            env = simpy.Environment()\n",
    "            mmn_queue = MMNQueue(env, arrival_rate, service_rate, n)\n",
    "            mmn_queue.run_simulation(simulation_time)\n",
    "            avg_waiting_time = mmn_queue.total_time_in_queue / mmn_queue.total_complete_services\n",
    "            avg_waiting_times.append(avg_waiting_time)\n",
    "\n",
    "        # Calculate mean and confidence interval\n",
    "        mean_waiting_time = np.mean(avg_waiting_times)\n",
    "        margin_of_error = t.ppf(0.975, num_replications - 1) * np.std(avg_waiting_times) / np.sqrt(num_replications)\n",
    "        confidence_interval = (mean_waiting_time - margin_of_error, mean_waiting_time + margin_of_error)\n",
    "\n",
    "        print(f\"   Mean Waiting Time: {mean_waiting_time}\")\n",
    "        print(f\"   Confidence Interval: {confidence_interval}\")\n",
    "\n",
    "if __name__ == \"__main__\":\n",
    "    main()"
   ]
  },
  {
   "cell_type": "code",
   "execution_count": null,
   "metadata": {},
   "outputs": [],
   "source": []
  }
 ],
 "metadata": {
  "kernelspec": {
   "display_name": "Python 3 (ipykernel)",
   "language": "python",
   "name": "python3"
  },
  "language_info": {
   "codemirror_mode": {
    "name": "ipython",
    "version": 3
   },
   "file_extension": ".py",
   "mimetype": "text/x-python",
   "name": "python",
   "nbconvert_exporter": "python",
   "pygments_lexer": "ipython3",
   "version": "3.9.7"
  },
  "toc": {
   "base_numbering": 1,
   "nav_menu": {},
   "number_sections": true,
   "sideBar": true,
   "skip_h1_title": false,
   "title_cell": "Table of Contents",
   "title_sidebar": "Contents",
   "toc_cell": false,
   "toc_position": {},
   "toc_section_display": true,
   "toc_window_display": false
  }
 },
 "nbformat": 4,
 "nbformat_minor": 2
}
