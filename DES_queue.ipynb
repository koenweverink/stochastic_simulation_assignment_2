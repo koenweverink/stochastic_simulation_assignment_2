{
 "cells": [
  {
   "cell_type": "markdown",
   "metadata": {},
   "source": [
    "# DES\tsimulation\tassignment\n",
    "## Multiple queues and multiple servers\n",
    "\n",
    "\n",
    "$\\lambda$ – the arrival rate into the system as a whole. \\\n",
    "$\\mu$ – the capacity of each of n equal servers. \\\n",
    "$\\rho$ represents the system load. \\\n",
    "In a single server system, it will be: $\\rho = \\frac{\\lambda}{\\mu}$ \\\n",
    "In a multi-server system (one queue with n equal servers, each with capacity $\\mu$), it will be $\\rho = \\frac{\\lambda}{(n \\mu)}$"
   ]
  },
  {
   "cell_type": "markdown",
   "metadata": {},
   "source": [
    "Queuing theory tells us that for FIFO scheduling the average waiting times are shorter for an\n",
    "M/M/n queue and a system load ρ and processor capacity µ than for a single M/M/1 queue\n",
    "with the same load characteristics (and thus an n-fold lower arrival rate). Of course, ρ must be\n",
    "less than one, but the experiment only becomes interesting when ρ is not much less than one."
   ]
  },
  {
   "cell_type": "markdown",
   "metadata": {},
   "source": [
    "### 1) Look up and/or derive this theoretical result, at least for n=2. Describe how it is derived. Can you also give a non-mathematical explanation?"
   ]
  },
  {
   "cell_type": "markdown",
   "metadata": {},
   "source": [
    "### 2) Write a DES program to verify this for n=1, n=2 and n=4. Make sure that your result has a high and known statistical significance. How does the number of measurements required to attain this depend on ρ?"
   ]
  },
  {
   "cell_type": "code",
   "execution_count": null,
   "metadata": {},
   "outputs": [],
   "source": []
  }
 ],
 "metadata": {
  "language_info": {
   "name": "python"
  }
 },
 "nbformat": 4,
 "nbformat_minor": 2
}
