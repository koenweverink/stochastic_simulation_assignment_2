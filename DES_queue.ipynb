{
 "cells": [
  {
   "cell_type": "markdown",
   "metadata": {},
   "source": [
    "# DES\tsimulation\tassignment\n",
    "## Multiple queues and multiple servers\n",
    "\n",
    "\n",
    "$\\lambda$ – the arrival rate into the system as a whole. \\\n",
    "$\\mu$ – the capacity of each of n equal servers. \\\n",
    "$\\rho$ represents the system load. \\\n",
    "In a single server system, it will be: $\\rho = \\frac{\\lambda}{\\mu}$ \\\n",
    "In a multi-server system (one queue with n equal servers, each with capacity $\\mu$), it will be $\\rho = \\frac{\\lambda}{(n \\mu)}$"
   ]
  },
  {
   "cell_type": "markdown",
   "metadata": {},
   "source": [
    "Queuing theory tells us that for FIFO scheduling the average waiting times are shorter for an\n",
    "M/M/n queue and a system load ρ and processor capacity µ than for a single M/M/1 queue\n",
    "with the same load characteristics (and thus an n-fold lower arrival rate). Of course, ρ must be\n",
    "less than one, but the experiment only becomes interesting when ρ is not much less than one."
   ]
  },
  {
   "cell_type": "markdown",
   "metadata": {},
   "source": [
    "### 1) Look up and/or derive this theoretical result, at least for n=2. Describe how it is derived. Can you also give a non-mathematical explanation?"
   ]
  },
  {
   "cell_type": "markdown",
   "metadata": {},
   "source": [
    "TODO"
   ]
  },
  {
   "cell_type": "markdown",
   "metadata": {},
   "source": [
    "### 2) Write a DES program to verify this for n=1, n=2 and n=4. Make sure that your result has a high and known statistical significance. How does the number of measurements required to attain this depend on ρ?"
   ]
  },
  {
   "cell_type": "markdown",
   "metadata": {},
   "source": [
    "M/M/n: \\\n",
    "Markovian/memoryless inter-arrival time distribution, so draw from exponential distribution \\\n",
    "Markovian/memoryless service time distribution, so draw from exponential distribution \\ \n",
    "n servers \\\n",
    "Infinite queue \\\n",
    "Service queuing disciple = FIFO\n"
   ]
  },
  {
   "cell_type": "code",
   "execution_count": 231,
   "metadata": {},
   "outputs": [],
   "source": [
    "import numpy as np\n",
    "import simpy\n",
    "import matplotlib.pyplot as plt"
   ]
  },
  {
   "cell_type": "code",
   "execution_count": 232,
   "metadata": {},
   "outputs": [],
   "source": [
    "class Server:\n",
    "    def __init__(self, env, arrival_rate, service_rate, capacity):\n",
    "        \"\"\"\n",
    "        Initialize the Server object.\n",
    "\n",
    "        Parameters:\n",
    "        - env: SimPy environment\n",
    "        - arrival_rate: Rate of arrivals (requests per time unit)\n",
    "        - service_rate: Rate of service completion (services per time unit)\n",
    "        - capacity: Server capacity (number of parallel services allowed)\n",
    "        \"\"\"\n",
    "        self.env = env\n",
    "        self.server = simpy.Resource(env, capacity=capacity)\n",
    "        self.arrival_rate = arrival_rate\n",
    "        self.service_rate = service_rate\n",
    "        self.total_arrivals = 0\n",
    "        self.total_complete_services = 0\n",
    "        self.total_time_in_queue = 0\n",
    "        self.arrival_times = []\n",
    "\n",
    "\n",
    "    def arrival_process(self):\n",
    "        \"\"\"\n",
    "        Process representing the arrival of requests.\n",
    "        Generates arrivals based on an exponential distribution and\n",
    "        then starts service processes.\n",
    "        \"\"\"\n",
    "        while True:\n",
    "            yield self.env.timeout(np.random.exponential(1 / self.arrival_rate))\n",
    "            self.total_arrivals += 1\n",
    "            arrival_time = self.env.now\n",
    "            self.arrival_times.append(arrival_time)\n",
    "            self.env.process(self.service())\n",
    "\n",
    "\n",
    "    def service(self):\n",
    "        \"\"\"\n",
    "        Process representing the service of requests.\n",
    "        Records arrival time, enters the queue, starts service, and calculates time spent in the queue.\n",
    "        \"\"\"\n",
    "        arrival_time = self.env.now\n",
    "        print(f\"Arrival at time {arrival_time}\")\n",
    "\n",
    "        with self.server.request() as req:\n",
    "            yield req\n",
    "\n",
    "            service_start_time = self.env.now\n",
    "            print(f\"Service start at time {service_start_time}\")\n",
    "            service_time = np.random.exponential(1 / self.service_rate)\n",
    "            yield self.env.timeout(service_time)\n",
    "\n",
    "            departure_time = self.env.now\n",
    "            print(f\"Service end at time {departure_time}\")\n",
    "            self.total_complete_services += 1\n",
    "\n",
    "            # Calculate time spent in the queue\n",
    "            time_in_queue = service_start_time - arrival_time\n",
    "            self.total_time_in_queue += time_in_queue\n",
    "\n",
    "\n",
    "    def run_simulation(self, simulation_time):\n",
    "        \"\"\"\n",
    "        Run the simulation for a specified duration.\n",
    "        \n",
    "        Parameters:\n",
    "        - simulation_time: max duration of the simulation\n",
    "        \"\"\"\n",
    "        self.env.process(self.arrival_process())\n",
    "        self.env.run(until=simulation_time)"
   ]
  },
  {
   "cell_type": "code",
   "execution_count": 233,
   "metadata": {},
   "outputs": [
    {
     "name": "stdout",
     "output_type": "stream",
     "text": [
      "Arrival at time 0.3163367495540208\n",
      "Service start at time 0.3163367495540208\n",
      "Service end at time 2.489989964771553\n",
      "Arrival at time 7.0774788673426965\n",
      "Service start at time 7.0774788673426965\n",
      "Arrival at time 7.359406674126699\n",
      "Service end at time 9.659315194717413\n",
      "Service start at time 9.659315194717413\n",
      "Arrival at time 9.858275154372501\n",
      "Arrival at time 10.086941607818705\n",
      "Arrival at time 12.262658216238169\n",
      "Service end at time 14.115194846842853\n",
      "Service start at time 14.115194846842853\n",
      "Arrival at time 15.616627677073186\n",
      "Service end at time 16.795921593966565\n",
      "Service start at time 16.795921593966565\n",
      "Service end at time 18.34581387033011\n",
      "Service start at time 18.34581387033011\n",
      "Service end at time 19.16274227442708\n",
      "Service start at time 19.16274227442708\n",
      "Service end at time 20.96354132159088\n",
      "Arrival at time 21.7322936671899\n",
      "Service start at time 21.7322936671899\n",
      "Arrival at time 23.39089324422032\n",
      "Arrival at time 23.636486522966024\n",
      "Service end at time 25.890755138984325\n",
      "Service start at time 25.890755138984325\n",
      "Service end at time 33.09441132506199\n",
      "Service start at time 33.09441132506199\n",
      "Service end at time 34.39889945056534\n",
      "Arrival at time 38.08684230464765\n",
      "Service start at time 38.08684230464765\n",
      "Arrival at time 38.642788702769465\n",
      "Service end at time 41.66648362791342\n",
      "Service start at time 41.66648362791342\n",
      "Service end at time 50.51645313009625\n",
      "Arrival at time 53.59118674173307\n",
      "Service start at time 53.59118674173307\n",
      "Arrival at time 54.08649863164918\n",
      "Service end at time 55.4285368570481\n",
      "Service start at time 55.4285368570481\n",
      "Arrival at time 58.57281927664513\n",
      "Service end at time 61.36525490567749\n",
      "Service start at time 61.36525490567749\n",
      "Arrival at time 61.73203836656145\n",
      "Service end at time 63.499886301272774\n",
      "Service start at time 63.499886301272774\n",
      "Arrival at time 65.98785232785207\n",
      "Arrival at time 67.57225623139296\n",
      "Arrival at time 72.7658593533756\n",
      "Service end at time 73.6894480633194\n",
      "Service start at time 73.6894480633194\n",
      "Service end at time 75.70204027021222\n",
      "Service start at time 75.70204027021222\n",
      "Service end at time 77.0066787420381\n",
      "Service start at time 77.0066787420381\n",
      "Service end at time 78.15625937216585\n",
      "Arrival at time 89.24918931000317\n",
      "Service start at time 89.24918931000317\n",
      "Service end at time 91.3653698560026\n",
      "Arrival at time 94.54036094087725\n",
      "Service start at time 94.54036094087725\n",
      "Service end at time 95.52944648931826\n"
     ]
    }
   ],
   "source": [
    "# Set up simulation environment and parameters\n",
    "env = simpy.Environment()\n",
    "arrival_rate = 0.2\n",
    "service_rate = 0.3\n",
    "capacity = 1\n",
    "simulation_time = 100.0 \n",
    "\n",
    "# Create and run the server simulation\n",
    "server = Server(env, arrival_rate, service_rate, capacity)\n",
    "server.run_simulation(simulation_time)"
   ]
  },
  {
   "cell_type": "code",
   "execution_count": 234,
   "metadata": {},
   "outputs": [
    {
     "name": "stdout",
     "output_type": "stream",
     "text": [
      "Total Arrivals: 21\n",
      "Average Time in Queue: 3.0405276678452573\n",
      "Total Complete Services: 21\n"
     ]
    }
   ],
   "source": [
    "# Print simulation results\n",
    "print(f\"Total Arrivals: {server.total_arrivals}\")\n",
    "print(f\"Average Time in Queue: {server.total_time_in_queue / server.total_arrivals if server.total_arrivals > 0 else 0}\")\n",
    "print(f\"Total Complete Services: {server.total_complete_services}\")"
   ]
  }
 ],
 "metadata": {
  "kernelspec": {
   "display_name": "Python 3",
   "language": "python",
   "name": "python3"
  },
  "language_info": {
   "codemirror_mode": {
    "name": "ipython",
    "version": 3
   },
   "file_extension": ".py",
   "mimetype": "text/x-python",
   "name": "python",
   "nbconvert_exporter": "python",
   "pygments_lexer": "ipython3",
   "version": "3.10.6"
  }
 },
 "nbformat": 4,
 "nbformat_minor": 2
}
